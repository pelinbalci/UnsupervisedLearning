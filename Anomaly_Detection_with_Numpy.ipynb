{
 "cells": [
  {
   "cell_type": "markdown",
   "id": "b1dc9b8d",
   "metadata": {},
   "source": [
    "# Anomaly Detection\n",
    "\n",
    "These are my notes & codes from the lecture: Unsupervised Learning, Recommenders, Reinforcement Learning given by DeepLearning.AI in Coursera. In this notebook I will explain the anomaly detection with numpy. You may find the original notebook [here]().\n",
    "\n",
    "Data includes: X_train, X_val and y_val. \n",
    "\n",
    "- Find mean, variance from training set. \n",
    "- Calculate the p values from training set.\n",
    "- Seelct the threshold epsilon using validation set:\n",
    "    - Find p_val values from validation set. \n",
    "    - Get the range of p_val and create list of potential epsilon values.\n",
    "    - Try each of the potential epsilon values to calculate the TP, FP and TN. Calculate F1 score. \n",
    "    - Find the threshold which gives the maximum F1 score. \n",
    "- Find the anomalies in training set using the selected epsilon value. "
   ]
  },
  {
   "cell_type": "markdown",
   "id": "55290149",
   "metadata": {},
   "source": [
    "Let's import the libraries."
   ]
  },
  {
   "cell_type": "code",
   "execution_count": 1,
   "id": "470fe7f2",
   "metadata": {},
   "outputs": [],
   "source": [
    "import numpy as np\n",
    "import matplotlib.pyplot as plt\n",
    "from utils import *\n",
    "\n",
    "%matplotlib inline"
   ]
  },
  {
   "cell_type": "markdown",
   "id": "f5ff041d",
   "metadata": {},
   "source": [
    "We will use the training dataset to fit the Gaussian distribution. Then we will use validation dataset and known true y values to select the treshold. "
   ]
  },
  {
   "cell_type": "markdown",
   "id": "6e6f292f",
   "metadata": {},
   "source": [
    "## Dataset"
   ]
  },
  {
   "cell_type": "code",
   "execution_count": 2,
   "id": "77a77e10",
   "metadata": {},
   "outputs": [],
   "source": [
    "X_train = np.array([[3.8, 4.0], [5.6, 4.7], [6.3, 3], [2.9, 4.6], [3.2, 4.9], [8,6], [9,7], [6.5,7], [5,5], [4,3], [6,7], \n",
    "              [7.4, 9.5], [4,5], [3,7], [5,6], [14, 7], [3.8,4.6], [4, 5.5], [3,7.8], [5,7], [4,5], [8.5,1], [4,1.5], [3,2], [8,1], \n",
    "              [10,3], [6,6], [9,5], [3,1.2], [8.5,10], [7,4], [5,4], [3,7], [12,10.5], [7,8], [10,9.2]])\n",
    "\n",
    "X_val = np.array([[3, 4.0], [5, 6], [6.1, 3.2], [1, 1.5], [4.6, 8], [7,9], [12,15], [4,7], [5,3], [3.5, 7], [14,2], [3, 9.5], \n",
    "                  [4,5.4], [3.2,3.4], [1,6.5], [13, 3.5], [12.5,6.4], [6.7, 12], [3.5,4.5], [4,9], [4,5], [8,1], [0.5,1.5], \n",
    "                  [3.1,5], [2,8.7], [9.1,3.4], [4,4], [8,12], [4,1], [11,10]])\n",
    "\n",
    "y_val = np.array([0,0,0,0,0,0,1,0,0,0,1,0,\n",
    "                  0,0,0,1,1,1,0,0,0,0,0,\n",
    "                 0,0,0,0,1,0,0])"
   ]
  },
  {
   "cell_type": "code",
   "execution_count": 3,
   "id": "a11eb322",
   "metadata": {},
   "outputs": [
    {
     "name": "stdout",
     "output_type": "stream",
     "text": [
      "(36, 2)\n",
      "(30, 2)\n",
      "(30,)\n"
     ]
    }
   ],
   "source": [
    "print(X_train.shape)\n",
    "print(X_val.shape)\n",
    "print(y_val.shape)"
   ]
  },
  {
   "cell_type": "code",
   "execution_count": 4,
   "id": "bc83e301",
   "metadata": {},
   "outputs": [
    {
     "data": {
      "image/png": "[encoded data removed]",
      "text/plain": [
       "<Figure size 432x288 with 1 Axes>"
      ]
     },
     "metadata": {
      "needs_background": "light"
     },
     "output_type": "display_data"
    }
   ],
   "source": [
    "# Create a scatter plot of the data. To change the markers to blue \"x\",\n",
    "# we used the 'marker' and 'c' parameters\n",
    "plt.scatter(X_train[:, 0], X_train[:, 1], marker='x', c='b') \n",
    "\n",
    "# Set the title\n",
    "plt.title(\"The first dataset\")\n",
    "# Set the y-axis label\n",
    "plt.ylabel('Throughput (mb/s)')\n",
    "# Set the x-axis label\n",
    "plt.xlabel('Latency (ms)')\n",
    "# Set axis range\n",
    "plt.axis([0, 15, 0, 15])\n",
    "\n",
    "plt.show()"
   ]
  },
  {
   "cell_type": "markdown",
   "id": "1b35b7d2",
   "metadata": {},
   "source": [
    "## Calculate mean an variance using Numpy"
   ]
  },
  {
   "cell_type": "markdown",
   "id": "c96a33ef",
   "metadata": {},
   "source": [
    "If you have only 2 features, you can calculate/estimate mean value as follows:"
   ]
  },
  {
   "cell_type": "code",
   "execution_count": 5,
   "id": "dd557159",
   "metadata": {},
   "outputs": [
    {
     "name": "stdout",
     "output_type": "stream",
     "text": [
      "6.333333333333333\n",
      "8.333333333333334\n"
     ]
    }
   ],
   "source": [
    "data2 = np.array([[1,2],[4,8],[14,15]])\n",
    "m, n = data2.shape\n",
    "print(data2[:,0].sum()/m)\n",
    "print(data2[:,1].sum()/m)\n",
    "\n",
    "mu1 = np.array([data2[:,0].sum()/m, data2[:,1].sum()/m])"
   ]
  },
  {
   "cell_type": "markdown",
   "id": "e4a276c9",
   "metadata": {},
   "source": [
    "Or, you can get advantage of np.mean module:"
   ]
  },
  {
   "cell_type": "code",
   "execution_count": 6,
   "id": "578094ea",
   "metadata": {},
   "outputs": [
    {
     "data": {
      "text/plain": [
       "array([6.33333333, 8.33333333])"
      ]
     },
     "execution_count": 6,
     "metadata": {},
     "output_type": "execute_result"
    }
   ],
   "source": [
    "mu2 = np.mean(data2, axis=0)\n",
    "mu2"
   ]
  },
  {
   "cell_type": "code",
   "execution_count": 7,
   "id": "7c68bfc4",
   "metadata": {},
   "outputs": [],
   "source": [
    "def estimate_gaussian(X): \n",
    "    \"\"\"\n",
    "    Calculates mean and variance of all features \n",
    "    in the dataset\n",
    "    \n",
    "    Args:\n",
    "        X (ndarray): (m, n) Data matrix\n",
    "    \n",
    "    Returns:\n",
    "        mu (ndarray): (n,) Mean of all features\n",
    "        var (ndarray): (n,) Variance of all features\n",
    "    \"\"\"\n",
    "\n",
    "    m, n = X.shape\n",
    "    mu = np.mean(X, axis=0)\n",
    "    var = np.mean((X-mu)**2, axis=0)\n",
    "    return mu, var"
   ]
  },
  {
   "cell_type": "code",
   "execution_count": 8,
   "id": "a4144072",
   "metadata": {},
   "outputs": [
    {
     "name": "stdout",
     "output_type": "stream",
     "text": [
      "Mean of each feature: [6.04166667 5.38888889]\n",
      "Variance of each feature: [7.52854167 6.0804321 ]\n"
     ]
    }
   ],
   "source": [
    "# Estimate mean and variance of each feature\n",
    "mu, var = estimate_gaussian(X_train)              \n",
    "\n",
    "print(\"Mean of each feature:\", mu)\n",
    "print(\"Variance of each feature:\", var)"
   ]
  },
  {
   "cell_type": "markdown",
   "id": "0b8ff81a",
   "metadata": {},
   "source": [
    "## Calculate p_val"
   ]
  },
  {
   "cell_type": "code",
   "execution_count": 9,
   "id": "7e1f58e6",
   "metadata": {},
   "outputs": [],
   "source": [
    "def multivariate_gaussian(X, mu, var):\n",
    "    \"\"\"\n",
    "    Computes the probability \n",
    "    density function of the examples X under the multivariate gaussian \n",
    "    distribution with parameters mu and var. If var is a matrix, it is\n",
    "    treated as the covariance matrix. If var is a vector, it is treated\n",
    "    as the var values of the variances in each dimension (a diagonal\n",
    "    covariance matrix\n",
    "    \"\"\"\n",
    "    \n",
    "    k = len(mu)\n",
    "    \n",
    "    if var.ndim == 1:\n",
    "        var = np.diag(var)\n",
    "        \n",
    "    X = X - mu\n",
    "    p = (2* np.pi)**(-k/2) * np.linalg.det(var)**(-0.5) * \\\n",
    "        np.exp(-0.5 * np.sum(np.matmul(X, np.linalg.pinv(var)) * X, axis=1))\n",
    "    \n",
    "    return p"
   ]
  },
  {
   "cell_type": "code",
   "execution_count": 10,
   "id": "967a6135",
   "metadata": {},
   "outputs": [],
   "source": [
    "def visualize_fit(X, mu, var):\n",
    "    \"\"\"\n",
    "    This visualization shows you the \n",
    "    probability density function of the Gaussian distribution. Each example\n",
    "    has a location (x1, x2) that depends on its feature values.\n",
    "    \"\"\"\n",
    "    \n",
    "    X1, X2 = np.meshgrid(np.arange(0, 20, 0.5), np.arange(0, 20, 0.5))\n",
    "    Z = multivariate_gaussian(np.stack([X1.ravel(), X2.ravel()], axis=1), mu, var)\n",
    "    Z = Z.reshape(X1.shape)\n",
    "\n",
    "    plt.plot(X[:, 0], X[:, 1], 'bx')\n",
    "\n",
    "    if np.sum(np.isinf(Z)) == 0:\n",
    "        plt.contour(X1, X2, Z, levels=10**(np.arange(-20., 1, 3)), linewidths=1)\n",
    "        \n",
    "    # Set the title\n",
    "    plt.title(\"The Gaussian contours of the distribution fit to the dataset\")\n",
    "    # Set the y-axis label\n",
    "    plt.ylabel('Throughput (mb/s)')\n",
    "    # Set the x-axis label\n",
    "    plt.xlabel('Latency (ms)')"
   ]
  },
  {
   "cell_type": "code",
   "execution_count": 11,
   "id": "7e20dd8e",
   "metadata": {},
   "outputs": [
    {
     "name": "stdout",
     "output_type": "stream",
     "text": [
      "[0.01437701 0.02233177 0.01464769 0.01160346 0.01349121 0.01768254\n",
      " 0.01062604 0.01873874 0.02161721 0.01115485 0.01899981 0.00518436\n",
      " 0.01761434 0.01027897 0.02122577 0.00028315 0.01600785 0.01781667\n",
      " 0.00788924 0.01768082 0.01761434 0.00323058 0.00514247 0.00494886\n",
      " 0.0037409  0.00519717 0.02280922 0.01299177 0.00300614 0.00274066\n",
      " 0.01888504 0.01867716 0.01027897 0.00025977 0.0126335  0.00251688]\n"
     ]
    },
    {
     "data": {
      "image/png": "[encoded data removed]",
      "text/plain": [
       "<Figure size 432x288 with 1 Axes>"
      ]
     },
     "metadata": {
      "needs_background": "light"
     },
     "output_type": "display_data"
    }
   ],
   "source": [
    "p = multivariate_gaussian(X_train, mu, var)\n",
    "print(p)\n",
    "visualize_fit(X_train, mu, var)"
   ]
  },
  {
   "cell_type": "markdown",
   "id": "ae386e9b",
   "metadata": {},
   "source": [
    "## Select the threshold $\\epsilon$\n",
    "\n",
    "We will use F1 score on cross validation set. \n",
    "\n",
    "If an example $x$ has a probability less than epsilon: $p(x) < \\varepsilon$, then it is classified as an anomaly. \n",
    "\n",
    "prec = TP / (TP + FP)\n",
    "recall = TP/ (TP + FN)\n",
    "\n",
    "F1 = (2* prec* recall) / (prec + recall)"
   ]
  },
  {
   "cell_type": "code",
   "execution_count": 12,
   "id": "0161134b",
   "metadata": {},
   "outputs": [
    {
     "data": {
      "text/plain": [
       "array([ True,  True, False,  True, False])"
      ]
     },
     "execution_count": 12,
     "metadata": {},
     "output_type": "execute_result"
    }
   ],
   "source": [
    "#example\n",
    "p_val = np.array([0.2, 0.35, 0.9, 0.1, 0.5])\n",
    "y_t = np.array([1,0,0,1,0])\n",
    "ep = 0.4\n",
    "pred = np.array(p_val<ep) \n",
    "pred"
   ]
  },
  {
   "cell_type": "code",
   "execution_count": 13,
   "id": "548ff8c0",
   "metadata": {},
   "outputs": [
    {
     "data": {
      "text/plain": [
       "0.6666666666666666"
      ]
     },
     "execution_count": 13,
     "metadata": {},
     "output_type": "execute_result"
    }
   ],
   "source": [
    "TP = ((pred == 1) & (y_t == 1)).sum()\n",
    "FP = ((pred == 1) & (y_t == 0)).sum()\n",
    "precision = TP / (TP+FP)\n",
    "precision"
   ]
  },
  {
   "cell_type": "code",
   "execution_count": 14,
   "id": "14b73b53",
   "metadata": {},
   "outputs": [],
   "source": [
    "def select_threshold(y_val, p_val): \n",
    "    \"\"\"\n",
    "    Finds the best threshold to use for selecting outliers \n",
    "    based on the results from a validation set (p_val) \n",
    "    and the ground truth (y_val)\n",
    "    \n",
    "    Args:\n",
    "        y_val (ndarray): Ground truth on validation set\n",
    "        p_val (ndarray): Results on validation set\n",
    "        \n",
    "    Returns:\n",
    "        epsilon (float): Threshold chosen \n",
    "        F1 (float):      F1 score by choosing epsilon as threshold\n",
    "    \"\"\" \n",
    "\n",
    "    best_epsilon = 0\n",
    "    best_F1 = 0\n",
    "    F1 = 0\n",
    "    \n",
    "    step_size = (max(p_val) - min(p_val)) / 1000\n",
    "    \n",
    "    for epsilon in np.arange(min(p_val), max(p_val), step_size):\n",
    "        \n",
    "        pred = np.array(p_val < epsilon)\n",
    "        \n",
    "        TP = ((pred == 1) & (y_val == 1)).sum()\n",
    "        FP = ((pred == 1) & (y_val == 0)).sum()\n",
    "        FN = ((pred == 0) & (y_val == 1)).sum()\n",
    "        precision = TP / (TP+FP)\n",
    "        recall = TP/ (TP+FN)\n",
    "        \n",
    "        F1 = (2 * precision * recall) / (precision + recall)\n",
    "        \n",
    "        if F1 > best_F1:\n",
    "            best_F1 = F1\n",
    "            best_epsilon = epsilon\n",
    "        \n",
    "    return best_epsilon, best_F1"
   ]
  },
  {
   "cell_type": "code",
   "execution_count": 15,
   "id": "c09edb20",
   "metadata": {},
   "outputs": [
    {
     "name": "stdout",
     "output_type": "stream",
     "text": [
      "Best epsilon found using cross-validation: 7.227568e-04\n",
      "Best F1 on Cross Validation Set: 0.909091\n"
     ]
    },
    {
     "name": "stderr",
     "output_type": "stream",
     "text": [
      "<ipython-input-14-fd63c684c3b9>:29: RuntimeWarning: invalid value encountered in long_scalars\n",
      "  precision = TP / (TP+FP)\n"
     ]
    }
   ],
   "source": [
    "p_val = multivariate_gaussian(X_val, mu, var)\n",
    "epsilon, F1 = select_threshold(y_val, p_val)\n",
    "\n",
    "print('Best epsilon found using cross-validation: %e' % epsilon)\n",
    "print('Best F1 on Cross Validation Set: %f' % F1)"
   ]
  },
  {
   "cell_type": "markdown",
   "id": "deb8b287",
   "metadata": {},
   "source": [
    "## Find outliers on training set"
   ]
  },
  {
   "cell_type": "code",
   "execution_count": 16,
   "id": "182d0b80",
   "metadata": {},
   "outputs": [
    {
     "data": {
      "text/plain": [
       "[<matplotlib.lines.Line2D at 0x168ff052ca0>]"
      ]
     },
     "execution_count": 16,
     "metadata": {},
     "output_type": "execute_result"
    },
    {
     "data": {
      "image/png": "[encoded data removed]",
      "text/plain": [
       "<Figure size 432x288 with 1 Axes>"
      ]
     },
     "metadata": {
      "needs_background": "light"
     },
     "output_type": "display_data"
    }
   ],
   "source": [
    "# Find the outliers in the training set \n",
    "outliers = p < epsilon\n",
    "\n",
    "# Visualize the fit\n",
    "visualize_fit(X_train, mu, var)\n",
    "\n",
    "# Draw a red circle around those outliers\n",
    "plt.plot(X_train[outliers, 0], X_train[outliers, 1], 'ro',\n",
    "         markersize= 10,markerfacecolor='none', markeredgewidth=2)"
   ]
  }
 ],
 "metadata": {
  "kernelspec": {
   "display_name": "Python 3",
   "language": "python",
   "name": "python3"
  },
  "language_info": {
   "codemirror_mode": {
    "name": "ipython",
    "version": 3
   },
   "file_extension": ".py",
   "mimetype": "text/x-python",
   "name": "python",
   "nbconvert_exporter": "python",
   "pygments_lexer": "ipython3",
   "version": "3.8.5"
  }
 },
 "nbformat": 4,
 "nbformat_minor": 5
}
