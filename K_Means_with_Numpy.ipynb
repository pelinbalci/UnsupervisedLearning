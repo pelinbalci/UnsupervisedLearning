{
 "cells": [
  {
   "cell_type": "markdown",
   "id": "07057926",
   "metadata": {},
   "source": [
    "# Kmeans"
   ]
  },
  {
   "cell_type": "markdown",
   "id": "b5cfb59c",
   "metadata": {},
   "source": [
    "**In this notebook, I will explain how to code K_means with numpy.** \n",
    "\n",
    "Let's import the required libraries:"
   ]
  },
  {
   "cell_type": "code",
   "execution_count": 14,
   "id": "73066a7a",
   "metadata": {},
   "outputs": [],
   "source": [
    "import numpy as np\n",
    "import matplotlib.pyplot as plt\n",
    "\n",
    "%matplotlib inline"
   ]
  },
  {
   "cell_type": "markdown",
   "id": "b6b10809",
   "metadata": {},
   "source": [
    "**Kmeans is a clustering technique. You may find the pseudo code of Kmeans:**\n",
    "\n",
    "K= number of clusters\n",
    "centroid = center of cluster\n",
    "X = data\n",
    "idx = array of idex of centroid assigned to X\n",
    "    \n",
    "    Random initialization of centroids\n",
    "    for iter in range(iterations):   \n",
    "         # Assign each data point to the closest centroid. \n",
    "         idx = find_closest_centroids(X, centroids)\n",
    "         # Calculate the mean of the data points for each cluster\n",
    "         centroids = compute_centroids(X, idx, K)"
   ]
  },
  {
   "cell_type": "markdown",
   "id": "5530c344",
   "metadata": {},
   "source": [
    "Before starting coding, let's revisit some features of numpy library! \n",
    "\n",
    "Here is an example  to assign point to the closest data point. data is the array of data and cent is the list of centroids, they are all 1D:"
   ]
  },
  {
   "cell_type": "code",
   "execution_count": 15,
   "id": "23bf1270",
   "metadata": {},
   "outputs": [
    {
     "name": "stdout",
     "output_type": "stream",
     "text": [
      "[0, 1, 1]\n"
     ]
    }
   ],
   "source": [
    "data = np.array([1,2,3])\n",
    "cent = np.array([0,2])\n",
    "\n",
    "assigned_idx = []\n",
    "for i in data:\n",
    "    d = (i-cent)**2\n",
    "    min_d = np.argmin(d)\n",
    "    assigned_idx.append(min_d)\n",
    "    \n",
    "print(assigned_idx)"
   ]
  },
  {
   "cell_type": "markdown",
   "id": "7675e516",
   "metadata": {},
   "source": [
    "**What if we have 2D data?**"
   ]
  },
  {
   "cell_type": "code",
   "execution_count": 16,
   "id": "ebd2dbd3",
   "metadata": {},
   "outputs": [
    {
     "name": "stdout",
     "output_type": "stream",
     "text": [
      "squared distances from data point: [3 2]  to each centroid is:  5 and 13\n"
     ]
    }
   ],
   "source": [
    "data= np.array([[3,2],[1,1],[4,8]])\n",
    "cent = np.array([[1,1],[0,0]])\n",
    "\n",
    "data_1 = data[0]\n",
    "squared_distance = np.sum((data_1 - cent)**2, axis=1)\n",
    "print('squared distances from data point:', data_1, ' to each centroid is: ', squared_distance[0], 'and', squared_distance[1])"
   ]
  },
  {
   "cell_type": "markdown",
   "id": "fe23f343",
   "metadata": {},
   "source": [
    "**Now, we can find the closest centroids:**"
   ]
  },
  {
   "cell_type": "code",
   "execution_count": 17,
   "id": "dd034778",
   "metadata": {},
   "outputs": [],
   "source": [
    "def find_closest_centroids(X, centroids):\n",
    "    \"\"\"\n",
    "    \n",
    "    Args:\n",
    "        X (ndarray): (m, n) Input values      \n",
    "        centroids (ndarray): k centroids\n",
    "    Returns:\n",
    "        idx (array_like): (m,) closest centroids\n",
    "    \"\"\"\n",
    "    K = centroids.shape[0]\n",
    "    idx = np.zeros(X.shape[0], dtype=int)\n",
    "\n",
    "    min_distances = []\n",
    "    for x in X:\n",
    "        dist = np.sum((x - centroids)**2, axis=1)\n",
    "        min_dist_id = np.argmin(dist)\n",
    "        min_distances.append(min_dist_id)\n",
    "    idx = np.array(min_distances)\n",
    "    return idx"
   ]
  },
  {
   "cell_type": "markdown",
   "id": "d3cc4516",
   "metadata": {},
   "source": [
    "**How can we calculate the mean of the data for each cluster?**\n",
    "\n",
    "Initially, we need to separate the data. Here is an example for this:"
   ]
  },
  {
   "cell_type": "code",
   "execution_count": 18,
   "id": "3949cf41",
   "metadata": {},
   "outputs": [
    {
     "data": {
      "text/plain": [
       "array([[ 5, 13],\n",
       "       [ 6, 17],\n",
       "       [ 2, 20],\n",
       "       [10, 30]])"
      ]
     },
     "execution_count": 18,
     "metadata": {},
     "output_type": "execute_result"
    }
   ],
   "source": [
    "# delete the points with axis:\n",
    "data = np.array([[1,12], [5,13], [6,17], [2,20], [10,30]])\n",
    "newdata = np.delete(data, 0, axis= 0)\n",
    "newdata"
   ]
  },
  {
   "cell_type": "code",
   "execution_count": 19,
   "id": "0e9a75f6",
   "metadata": {},
   "outputs": [
    {
     "name": "stdout",
     "output_type": "stream",
     "text": [
      "(array([0, 2], dtype=int64),)\n"
     ]
    },
    {
     "data": {
      "text/plain": [
       "array([[ 1, 12],\n",
       "       [ 6, 17]])"
      ]
     },
     "execution_count": 19,
     "metadata": {},
     "output_type": "execute_result"
    }
   ],
   "source": [
    "# find the data with axis:\n",
    "data = np.array([[1,12], [5,13], [6,17], [2,20], [10,30]])\n",
    "assigned_clusters = np.array([0,1,0,1,2])\n",
    "\n",
    "# find the index of cluster 0\n",
    "cluster_0_idx = np.where(assigned_clusters == 0)\n",
    "print(cluster_0_idx)\n",
    "\n",
    "# find the data assigned to cluster 0\n",
    "data[cluster_0_idx]"
   ]
  },
  {
   "cell_type": "markdown",
   "id": "7f3c4296",
   "metadata": {},
   "source": [
    "**Let's code the centroid calculation:**"
   ]
  },
  {
   "cell_type": "code",
   "execution_count": 20,
   "id": "dd7b036b",
   "metadata": {},
   "outputs": [],
   "source": [
    "def compute_centroids(X, idx, K):\n",
    "    \"\"\"  \n",
    "    Args:\n",
    "        X (ndarray):   (m, n) Data points\n",
    "        idx (ndarray): (m,) Array containing index of closest centroid for each \n",
    "                       example in X. Concretely, idx[i] contains the index of \n",
    "                       the centroid closest to example i\n",
    "        K (int):       number of centroids\n",
    "    \n",
    "    Returns:\n",
    "        centroids (ndarray): (K, n) New centroids computed\n",
    "    \"\"\"\n",
    "    m, n = X.shape  # m number of data points, n is the features\n",
    "    centroids = np.zeros((K, n))  # K is the number of clusters \n",
    "    \n",
    "    centroids_list = []\n",
    "    for k in range(K):\n",
    "        data_for_k_idx = np.where(idx == k)[0]\n",
    "        data_for_k = X[data_for_k_idx]     \n",
    "        cent = np.sum(data_for_k, axis=0) / len(data_for_k)\n",
    "        centroids_list.append(cent)\n",
    "        \n",
    "    centroids = np.array(centroids_list)\n",
    "    return centroids"
   ]
  },
  {
   "cell_type": "code",
   "execution_count": 21,
   "id": "93f3cdf8",
   "metadata": {},
   "outputs": [],
   "source": [
    "# Visualize it: \n",
    "\n",
    "def plot_kmeans(X, centroids, idx, i):\n",
    "    # Plot data\n",
    "    plt.scatter(X[:, 0], X[:, 1], c=idx)\n",
    "    # Plot the centroids\n",
    "    plt.scatter(centroids[:, 0], centroids[:, 1], marker='x', c='k', linewidths=3)\n",
    "    plt.title(\"Iteration number %d\" %i)"
   ]
  },
  {
   "cell_type": "markdown",
   "id": "023deb5f",
   "metadata": {},
   "source": [
    "**Complete code:**"
   ]
  },
  {
   "cell_type": "code",
   "execution_count": 22,
   "id": "9709a379",
   "metadata": {},
   "outputs": [],
   "source": [
    "def run_kmeans(X, initial_centroids, max_iters=10, plot_progress=False):\n",
    "    \"\"\"\n",
    "    Runs the K-Means on data matrix X\n",
    "    \"\"\"\n",
    "    \n",
    "    # Initialize values\n",
    "    m, n = X.shape\n",
    "    K = initial_centroids.shape[0]\n",
    "    centroids = initial_centroids\n",
    "    previous_centroids = centroids    \n",
    "    idx = np.zeros(m)\n",
    "    \n",
    "    # Run K-Means\n",
    "    for i in range(max_iters):\n",
    "        \n",
    "        #Output progress\n",
    "        # print(\"iteration number:\", (i, max_iters-1))\n",
    "        \n",
    "        # assign to the closest centroid\n",
    "        idx = find_closest_centroids(X, centroids)\n",
    "        \n",
    "        if (plot_progress) and (i%5==0):\n",
    "            plot_kmeans(X, centroids, idx, i)\n",
    "        plt.show()\n",
    "            \n",
    "        # compute new centroids\n",
    "        centroids = compute_centroids(X, idx, K)\n",
    "    return centroids, idx"
   ]
  },
  {
   "cell_type": "markdown",
   "id": "7603c4a9",
   "metadata": {},
   "source": [
    "**Examples:**"
   ]
  },
  {
   "cell_type": "code",
   "execution_count": 23,
   "id": "15c6a284",
   "metadata": {},
   "outputs": [],
   "source": [
    "# example dataset\n",
    "X = np.array([[1.8, 4.0], [5.6, 4.7], [6.3, 3], [2.9, 4.6], [3.2, 4.9], [8,6], [9,7], [10,7], [5,5], [4,3], [12,11], \n",
    "              [9, 9.5], [4,5], [3,7], [5,6], [14, 8], [1,2], [4, 10], [3,9], [5,7], [4,12], [9,1], [0,1], [3,2], [8,1], \n",
    "              [10,3], [6,6], [12,8], [1,1], [12,10]])"
   ]
  },
  {
   "cell_type": "code",
   "execution_count": 24,
   "id": "bb4929e5",
   "metadata": {},
   "outputs": [
    {
     "data": {
      "image/png": "[encoded data removed]",
      "text/plain": [
       "<Figure size 432x288 with 1 Axes>"
      ]
     },
     "metadata": {
      "needs_background": "light"
     },
     "output_type": "display_data"
    },
    {
     "data": {
      "image/png": "[encoded data removed]",
      "text/plain": [
       "<Figure size 432x288 with 1 Axes>"
      ]
     },
     "metadata": {
      "needs_background": "light"
     },
     "output_type": "display_data"
    },
    {
     "data": {
      "image/png": "[encoded data removed]",
      "text/plain": [
       "<Figure size 432x288 with 1 Axes>"
      ]
     },
     "metadata": {
      "needs_background": "light"
     },
     "output_type": "display_data"
    },
    {
     "name": "stdout",
     "output_type": "stream",
     "text": [
      "[[3.34375 4.5125 ]\n",
      " [8.325   2.     ]\n",
      " [9.4     8.85   ]] [0 0 1 0 0 2 2 2 0 0 2 2 0 0 0 2 0 2 0 0 2 1 0 0 1 1 0 2 0 2]\n"
     ]
    }
   ],
   "source": [
    "# Set initial centroids\n",
    "initial_centroids = np.array([[3,3],[6,2],[8,5]])\n",
    "K = 3\n",
    "\n",
    "# Number of iterations\n",
    "max_iters = 11\n",
    "\n",
    "centroids, idx = run_kmeans(X, initial_centroids, max_iters, plot_progress=True)\n",
    "print(centroids, idx)"
   ]
  },
  {
   "cell_type": "code",
   "execution_count": 25,
   "id": "2f92c50f",
   "metadata": {},
   "outputs": [
    {
     "data": {
      "image/png": "[encoded data removed]",
      "text/plain": [
       "<Figure size 432x288 with 1 Axes>"
      ]
     },
     "metadata": {
      "needs_background": "light"
     },
     "output_type": "display_data"
    },
    {
     "data": {
      "image/png": "[encoded data removed]",
      "text/plain": [
       "<Figure size 432x288 with 1 Axes>"
      ]
     },
     "metadata": {
      "needs_background": "light"
     },
     "output_type": "display_data"
    },
    {
     "data": {
      "image/png": "[encoded data removed]",
      "text/plain": [
       "<Figure size 432x288 with 1 Axes>"
      ]
     },
     "metadata": {
      "needs_background": "light"
     },
     "output_type": "display_data"
    },
    {
     "name": "stdout",
     "output_type": "stream",
     "text": [
      "[[ 1.8         2.16666667]\n",
      " [ 4.38461538  6.47692308]\n",
      " [10.27272727  6.5       ]] [0 1 1 1 1 2 2 2 1 0 2 2 1 1 1 2 0 1 1 1 1 2 0 0 2 2 1 2 0 2]\n"
     ]
    }
   ],
   "source": [
    "# If we start with different centroids:\n",
    "\n",
    "# Set initial centroids\n",
    "initial_centroids = np.array([[1,1],[3,4],[10,5]])\n",
    "K = 3\n",
    "\n",
    "# Number of iterations\n",
    "max_iters = 11\n",
    "\n",
    "centroids, idx = run_kmeans(X, initial_centroids, max_iters, plot_progress=True)\n",
    "print(centroids, idx)"
   ]
  },
  {
   "cell_type": "markdown",
   "id": "07151896",
   "metadata": {},
   "source": [
    "**Note:**\n",
    "\n",
    "As you can see, different initializations may give us different results. \n",
    "\n",
    "Therefore, it is better to randomly initialize the centroids for 100 (example number) times, make the first assignment and calculate the total distance from the inital centroids to the data points, and select the best (which has minimum distance) initial centroid set. "
   ]
  }
 ],
 "metadata": {
  "kernelspec": {
   "display_name": "Python 3",
   "language": "python",
   "name": "python3"
  },
  "language_info": {
   "codemirror_mode": {
    "name": "ipython",
    "version": 3
   },
   "file_extension": ".py",
   "mimetype": "text/x-python",
   "name": "python",
   "nbconvert_exporter": "python",
   "pygments_lexer": "ipython3",
   "version": "3.8.5"
  }
 },
 "nbformat": 4,
 "nbformat_minor": 5
}
